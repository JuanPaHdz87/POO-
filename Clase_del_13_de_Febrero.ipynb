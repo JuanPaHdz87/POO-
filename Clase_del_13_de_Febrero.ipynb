{
  "nbformat": 4,
  "nbformat_minor": 0,
  "metadata": {
    "colab": {
      "provenance": []
    },
    "kernelspec": {
      "name": "python3",
      "display_name": "Python 3"
    },
    "language_info": {
      "name": "python"
    }
  },
  "cells": [
    {
      "cell_type": "code",
      "execution_count": 1,
      "metadata": {
        "colab": {
          "base_uri": "https://localhost:8080/"
        },
        "id": "VCFSXhKSGSad",
        "outputId": "c060e470-92cb-4adc-d0e9-cbda8ed03aec"
      },
      "outputs": [
        {
          "output_type": "stream",
          "name": "stdout",
          "text": [
            "Collecting ColabTurtle\n",
            "  Downloading ColabTurtle-2.1.0.tar.gz (6.8 kB)\n",
            "  Preparing metadata (setup.py) ... \u001b[?25l\u001b[?25hdone\n",
            "Building wheels for collected packages: ColabTurtle\n",
            "  Building wheel for ColabTurtle (setup.py) ... \u001b[?25l\u001b[?25hdone\n",
            "  Created wheel for ColabTurtle: filename=ColabTurtle-2.1.0-py3-none-any.whl size=7642 sha256=966dc7d598a7b3f00bc53bde20c8813c198465c7870e017fbb4309caaf815bcd\n",
            "  Stored in directory: /root/.cache/pip/wheels/f6/9e/81/137e7da25129474562d30f8660be599e5c8d79228cb747e5b9\n",
            "Successfully built ColabTurtle\n",
            "Installing collected packages: ColabTurtle\n",
            "Successfully installed ColabTurtle-2.1.0\n"
          ]
        }
      ],
      "source": [
        "!pip3 install ColabTurtle\n",
        "from ColabTurtle.Turtle import *"
      ]
    },
    {
      "cell_type": "markdown",
      "source": [
        "## Clases, herencias y polimorfismos\n",
        "\n",
        "Platilla para crear objetos donde se define caracteristicas y acciones que tendrá el objeto."
      ],
      "metadata": {
        "id": "-XsJaMR7L87N"
      }
    },
    {
      "cell_type": "code",
      "source": [
        "class Alvaro():\n",
        "  pass"
      ],
      "metadata": {
        "id": "NQhG9YPrME4k"
      },
      "execution_count": 7,
      "outputs": []
    },
    {
      "cell_type": "code",
      "source": [
        "Alvaro()"
      ],
      "metadata": {
        "colab": {
          "base_uri": "https://localhost:8080/"
        },
        "id": "Jv0qLrQyMKYa",
        "outputId": "c4ff71df-ab26-4aae-9e8d-8d52e5a78fef"
      },
      "execution_count": 8,
      "outputs": [
        {
          "output_type": "execute_result",
          "data": {
            "text/plain": [
              "<__main__.Alvaro at 0x78da928605d0>"
            ]
          },
          "metadata": {},
          "execution_count": 8
        }
      ]
    },
    {
      "cell_type": "code",
      "source": [
        "class Alvaro():\n",
        "  def __init__(self, edad, bbf, Ceci):\n",
        "    self.edad = edad\n",
        "    self.bbf = bbf\n",
        "    self.Ceci= Ceci\n",
        "\n",
        "  def saludar(self):\n",
        "   print(f\"A los {self.edad} conoci a mi amigo {self.bbf}\")\n",
        "\n",
        "  def chsime (self):\n",
        "    print(f\"Alvaro esta en el chsime con {self.bbf} conoci a mi amigo {self.Ceci}\")\n"
      ],
      "metadata": {
        "id": "yyG2J7BtMS1u"
      },
      "execution_count": 31,
      "outputs": []
    },
    {
      "cell_type": "code",
      "source": [
        "avo = Alvaro(19, \"Jaume\", \"Ceci\")"
      ],
      "metadata": {
        "id": "fxYoE8FMRjry"
      },
      "execution_count": 32,
      "outputs": []
    },
    {
      "cell_type": "code",
      "source": [
        "# Estos son los argumentos de la clase.\n",
        "avo.edad, avo.bbf, avo.Ceci"
      ],
      "metadata": {
        "colab": {
          "base_uri": "https://localhost:8080/"
        },
        "id": "f15XkEb3SX3W",
        "outputId": "696fb664-1a75-4bbb-f0be-36163e248bd6"
      },
      "execution_count": 33,
      "outputs": [
        {
          "output_type": "execute_result",
          "data": {
            "text/plain": [
              "(19, 'Jaume', 'Ceci')"
            ]
          },
          "metadata": {},
          "execution_count": 33
        }
      ]
    },
    {
      "cell_type": "code",
      "source": [
        "avo.saludar()"
      ],
      "metadata": {
        "colab": {
          "base_uri": "https://localhost:8080/"
        },
        "id": "nNNgJ7fUS00I",
        "outputId": "5b578c28-5bef-467f-918e-0100b94a94eb"
      },
      "execution_count": 34,
      "outputs": [
        {
          "output_type": "stream",
          "name": "stdout",
          "text": [
            "A los 19 conoci a mi amigo Jaume\n"
          ]
        }
      ]
    }
  ]
}
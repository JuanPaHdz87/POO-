{
  "nbformat": 4,
  "nbformat_minor": 0,
  "metadata": {
    "colab": {
      "provenance": []
    },
    "kernelspec": {
      "name": "python3",
      "display_name": "Python 3"
    },
    "language_info": {
      "name": "python"
    }
  },
  "cells": [
    {
      "cell_type": "markdown",
      "source": [
        "#Ejercicios de Programación Orientada a Objetos"
      ],
      "metadata": {
        "id": "nSqC7-YO6UhV"
      }
    },
    {
      "cell_type": "code",
      "execution_count": 1,
      "metadata": {
        "colab": {
          "base_uri": "https://localhost:8080/"
        },
        "id": "7OpAx9rq6KTY",
        "outputId": "c05d41e2-7128-423b-c087-d00efe44f47a"
      },
      "outputs": [
        {
          "output_type": "stream",
          "name": "stdout",
          "text": [
            "Hola, Mundo!\n"
          ]
        }
      ],
      "source": [
        "# 1. Imprime \"Hola, Mundo!\" en la consola.\n",
        "print(\"Hola, Mundo!\")"
      ]
    },
    {
      "cell_type": "code",
      "source": [
        "# 2. Declara una variable llamada nombre e imprime su valor.\n",
        "nombre = \"Juan\"\n",
        "print(nombre)"
      ],
      "metadata": {
        "colab": {
          "base_uri": "https://localhost:8080/"
        },
        "id": "irf6FBWt6ch2",
        "outputId": "bdeda625-cec4-4fcf-e327-8d0951c6842b"
      },
      "execution_count": 2,
      "outputs": [
        {
          "output_type": "stream",
          "name": "stdout",
          "text": [
            "Juan\n"
          ]
        }
      ]
    },
    {
      "cell_type": "code",
      "source": [
        "# 3. Pide al usuario que ingrese un número e imprime su doble.\n",
        "numero = int(input(\"Ingresa un número: \"))\n",
        "print(\"El doble es:\", numero * 2)"
      ],
      "metadata": {
        "colab": {
          "base_uri": "https://localhost:8080/"
        },
        "id": "TYr6iqW66fKi",
        "outputId": "32d8c7ba-981e-47dd-f83e-afcda9e3fbf4"
      },
      "execution_count": 3,
      "outputs": [
        {
          "output_type": "stream",
          "name": "stdout",
          "text": [
            "Ingresa un número: 2\n",
            "El doble es: 4\n"
          ]
        }
      ]
    },
    {
      "cell_type": "code",
      "source": [
        "# 4. Escribe un programa que sume dos números ingresados por el usuario.\n",
        "num1 = int(input(\"Ingresa el primer número: \"))\n",
        "num2 = int(input(\"Ingresa el segundo número: \"))\n",
        "print(\"La suma es:\", num1 + num2)"
      ],
      "metadata": {
        "colab": {
          "base_uri": "https://localhost:8080/"
        },
        "id": "SyW2vdLw6lbp",
        "outputId": "c0dab84a-f872-4517-8286-b526401af1b9"
      },
      "execution_count": 4,
      "outputs": [
        {
          "output_type": "stream",
          "name": "stdout",
          "text": [
            "Ingresa el primer número: 4\n",
            "Ingresa el segundo número: 5\n",
            "La suma es: 9\n"
          ]
        }
      ]
    },
    {
      "cell_type": "code",
      "source": [
        "# 5. Crea una lista con cinco números y muestra el primer y último elemento.\n",
        "numeros = [4, 8, 10, 20, 500]\n",
        "print(\"Primer número:\", numeros[0])\n",
        "print(\"Último número:\", numeros[-1])"
      ],
      "metadata": {
        "colab": {
          "base_uri": "https://localhost:8080/"
        },
        "id": "dgdTK63a6qyl",
        "outputId": "2b7036ae-b2f2-4d86-9656-479115a0833c"
      },
      "execution_count": 6,
      "outputs": [
        {
          "output_type": "stream",
          "name": "stdout",
          "text": [
            "Primer número: 4\n",
            "Último número: 500\n"
          ]
        }
      ]
    },
    {
      "cell_type": "code",
      "source": [
        "# 6. Escribe un programa que verifique si un número es par o impar.\n",
        "num = int(input(\"Ingresa un número: \"))\n",
        "if num % 2 == 0:\n",
        "    print(\"Es par\")\n",
        "else:\n",
        "    print(\"Es impar\")"
      ],
      "metadata": {
        "colab": {
          "base_uri": "https://localhost:8080/"
        },
        "id": "3Xte6W3l60tN",
        "outputId": "f4c1ab39-ab48-4687-dde2-8d6d1f19bb32"
      },
      "execution_count": 7,
      "outputs": [
        {
          "output_type": "stream",
          "name": "stdout",
          "text": [
            "Ingresa un número: 56\n",
            "Es par\n"
          ]
        }
      ]
    },
    {
      "cell_type": "code",
      "source": [
        "# 7. Escribe un bucle que imprima los números del 1 al 10.\n",
        "for i in range(1, 11):\n",
        "    print(i)"
      ],
      "metadata": {
        "colab": {
          "base_uri": "https://localhost:8080/"
        },
        "id": "NEHxkPRE67FW",
        "outputId": "19d9be94-e348-4611-ebeb-42e8ec514dcf"
      },
      "execution_count": 11,
      "outputs": [
        {
          "output_type": "stream",
          "name": "stdout",
          "text": [
            "1\n",
            "2\n",
            "3\n",
            "4\n",
            "5\n",
            "6\n",
            "7\n",
            "8\n",
            "9\n",
            "10\n"
          ]
        }
      ]
    },
    {
      "cell_type": "code",
      "source": [
        "# 8. Calcula la suma de los primeros 100 números naturales.\n",
        "suma = sum(range(1, 101))\n",
        "print(\"La suma de los primeros 100 números es:\", suma)"
      ],
      "metadata": {
        "colab": {
          "base_uri": "https://localhost:8080/"
        },
        "id": "cNzkMgb77IWi",
        "outputId": "3b791636-e0bd-4bc3-fcaf-75055252f15f"
      },
      "execution_count": 17,
      "outputs": [
        {
          "output_type": "stream",
          "name": "stdout",
          "text": [
            "La suma de los primeros 100 números es: 5050\n"
          ]
        }
      ]
    },
    {
      "cell_type": "code",
      "source": [
        "# 9. Crea una función que reciba un número y devuelva su cuadrado.\n",
        "cuad = int(input(\"Ingresa un número: \"))\n",
        "print(\"El cuadrado del número es:\", cuad ** 2)"
      ],
      "metadata": {
        "colab": {
          "base_uri": "https://localhost:8080/"
        },
        "id": "f5Yc8jy47N3I",
        "outputId": "97443e71-4c30-4fae-abba-1e158a802786"
      },
      "execution_count": 24,
      "outputs": [
        {
          "output_type": "stream",
          "name": "stdout",
          "text": [
            "Ingresa un número: 3\n",
            "El cuadrado del número es: 9\n"
          ]
        }
      ]
    },
    {
      "cell_type": "code",
      "source": [
        "# 10. Escribe un programa que cuente cuántas vocales tiene una cadena de texto.\n",
        "texto = input(\"Ingresa una oración: \").lower()\n",
        "vocales = \"aeiou\"\n",
        "contador = sum(1 for letra in texto if letra in vocales)\n",
        "print(\"Número de vocales en la oración:\", contador)"
      ],
      "metadata": {
        "colab": {
          "base_uri": "https://localhost:8080/"
        },
        "id": "ql9Y-G4r8qey",
        "outputId": "0679bdae-1830-4347-b7f1-ae2bf545c162"
      },
      "execution_count": 20,
      "outputs": [
        {
          "output_type": "stream",
          "name": "stdout",
          "text": [
            "Ingresa una oración: Hola Juan Pablo\n",
            "Número de vocales en la oración: 6\n"
          ]
        }
      ]
    },
    {
      "cell_type": "code",
      "source": [
        "# 11. Crea una lista de números del 1 al 10 y muestra solo los pares.\n",
        "numeros = list(range(1, 11))\n",
        "pares = [num for num in numeros if num % 2 == 0]\n",
        "print(\"Números pares:\", pares)"
      ],
      "metadata": {
        "colab": {
          "base_uri": "https://localhost:8080/"
        },
        "id": "0zS7HiBo88Nr",
        "outputId": "1f255650-cbfd-43da-cdf6-6990cff44a5d"
      },
      "execution_count": 25,
      "outputs": [
        {
          "output_type": "stream",
          "name": "stdout",
          "text": [
            "Números pares: [2, 4, 6, 8, 10]\n"
          ]
        }
      ]
    },
    {
      "cell_type": "code",
      "source": [
        "# 12. Crea un diccionario con nombres y edades, y muestra la edad de una persona específica.\n",
        "edades = {\"Juan\": 25, \"Rodrigo\": 30, \"Santiago\": 22}\n",
        "nombre = input(\"Ingresa un nombre: \")\n",
        "print(f\"La edad de {nombre} es: {edades.get(nombre, 'No encontrado')}\")"
      ],
      "metadata": {
        "colab": {
          "base_uri": "https://localhost:8080/"
        },
        "id": "yAthpV0zCv20",
        "outputId": "9fa9d6d4-3244-45cd-ee18-555d84b1f0a7"
      },
      "execution_count": 27,
      "outputs": [
        {
          "output_type": "stream",
          "name": "stdout",
          "text": [
            "Ingresa un nombre: Juan\n",
            "La edad de Juan es: 25\n"
          ]
        }
      ]
    },
    {
      "cell_type": "code",
      "source": [
        "# 13. Encuentra el número más grande en una lista.\n",
        "lista_numeros = [10, 25, 67, 89, 5]\n",
        "maximo = max(lista_numeros)\n",
        "print(\"Número más grande:\", maximo)"
      ],
      "metadata": {
        "colab": {
          "base_uri": "https://localhost:8080/"
        },
        "id": "EiWaBYjaXLwp",
        "outputId": "c12f397b-c46c-4cef-d99a-a3efa169c0d6"
      },
      "execution_count": 28,
      "outputs": [
        {
          "output_type": "stream",
          "name": "stdout",
          "text": [
            "Número más grande: 89\n"
          ]
        }
      ]
    },
    {
      "cell_type": "code",
      "source": [
        "# 14. Crea una función que tome una lista de números y devuelva su promedio.\n",
        "def promedio(lista):\n",
        "    return sum(lista) / len(lista) if lista else 0"
      ],
      "metadata": {
        "id": "YNmt5kdOXSrn"
      },
      "execution_count": 29,
      "outputs": []
    },
    {
      "cell_type": "code",
      "source": [
        "# 15. Verifica si una palabra es un palíndromo.\n",
        "palabra = input(\"Ingresa una palabra: \").lower()\n",
        "if palabra == palabra[::-1]:\n",
        "    print(\"Es un palíndromo\")\n",
        "else:\n",
        "    print(\"No es un palíndromo\")"
      ],
      "metadata": {
        "colab": {
          "base_uri": "https://localhost:8080/"
        },
        "id": "NCwZwfa7XdBl",
        "outputId": "22923b31-09f7-4817-80d6-29eb2887ef1b"
      },
      "execution_count": 30,
      "outputs": [
        {
          "output_type": "stream",
          "name": "stdout",
          "text": [
            "Ingresa una palabra: Hola\n",
            "No es un palíndromo\n"
          ]
        }
      ]
    },
    {
      "cell_type": "code",
      "source": [
        "# 16. Crea una función que tome dos números y devuelva el mayor.\n",
        "def mayor(a, b):\n",
        "    return max(a, b)\n",
        "print(mayor(4, 7))"
      ],
      "metadata": {
        "colab": {
          "base_uri": "https://localhost:8080/"
        },
        "id": "RFHyPNDjXiXA",
        "outputId": "81c02fb0-6c2b-4995-d964-319151a16d71"
      },
      "execution_count": 34,
      "outputs": [
        {
          "output_type": "stream",
          "name": "stdout",
          "text": [
            "7\n"
          ]
        }
      ]
    },
    {
      "cell_type": "code",
      "source": [
        "# 17. Genera la tabla de multiplicar de un número ingresado por el usuario.\n",
        "num = int(input(\"Ingresa un número para su tabla de multiplicar: \"))\n",
        "for i in range(1, 11):\n",
        "    print(f\"{num} x {i} = {num * i}\")\n"
      ],
      "metadata": {
        "colab": {
          "base_uri": "https://localhost:8080/"
        },
        "id": "CWTEHeGzXucK",
        "outputId": "0109b6dc-ccfb-4e23-f86f-2fbb19c9db7f"
      },
      "execution_count": 32,
      "outputs": [
        {
          "output_type": "stream",
          "name": "stdout",
          "text": [
            "Ingresa un número para su tabla de multiplicar: 7\n",
            "7 x 1 = 7\n",
            "7 x 2 = 14\n",
            "7 x 3 = 21\n",
            "7 x 4 = 28\n",
            "7 x 5 = 35\n",
            "7 x 6 = 42\n",
            "7 x 7 = 49\n",
            "7 x 8 = 56\n",
            "7 x 9 = 63\n",
            "7 x 10 = 70\n"
          ]
        }
      ]
    }
  ]
}
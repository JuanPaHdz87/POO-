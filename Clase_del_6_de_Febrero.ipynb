{
  "nbformat": 4,
  "nbformat_minor": 0,
  "metadata": {
    "colab": {
      "provenance": []
    },
    "kernelspec": {
      "name": "python3",
      "display_name": "Python 3"
    },
    "language_info": {
      "name": "python"
    }
  },
  "cells": [
    {
      "cell_type": "code",
      "source": [],
      "metadata": {
        "id": "jAUPwtiMvPu4"
      },
      "execution_count": null,
      "outputs": []
    },
    {
      "cell_type": "markdown",
      "source": [
        "# Arreglos\n",
        "## Matrices\n",
        "Una matriz es una forma de ordenar un sistema de ecuaciones, para que tenga un uso más sencillo.\n",
        "\n",
        "\\begin{bmatrix}\n",
        "a_{11} & a_{12} & \\cdots & a_{1m} \\\\\n",
        "a_{21} & a_{22} & \\cdots & a_{2m} \\\\\n",
        "\\vdots & \\vdots & \\ddots & \\vdots \\\\\n",
        "a_{n1} & a_{n2} & \\cdots & a_{nm}\n",
        "\\end{bmatrix}\n"
      ],
      "metadata": {
        "id": "aA3rcfk3vRGH"
      }
    },
    {
      "cell_type": "code",
      "source": [
        "A= [[1, 2, 3], [4, 5, 6], [7, 8, 9]]\n",
        "print (A)\n",
        "type (A)"
      ],
      "metadata": {
        "colab": {
          "base_uri": "https://localhost:8080/"
        },
        "id": "ROu7GH3lxevH",
        "outputId": "616a6c27-ea0d-48c9-df99-64ff4e0b5831"
      },
      "execution_count": 2,
      "outputs": [
        {
          "output_type": "stream",
          "name": "stdout",
          "text": [
            "[[1, 2, 3], [4, 5, 6], [7, 8, 9]]\n"
          ]
        },
        {
          "output_type": "execute_result",
          "data": {
            "text/plain": [
              "list"
            ]
          },
          "metadata": {},
          "execution_count": 2
        }
      ]
    },
    {
      "cell_type": "code",
      "source": [
        "#Vamos a crear otra lista de listas.\n",
        "B=[[21, 34, 40], [71, 17, 77], [73, 81, 28]]\n",
        "A+B #Concatenar las listas.\n",
        "print (A+B)"
      ],
      "metadata": {
        "colab": {
          "base_uri": "https://localhost:8080/"
        },
        "id": "hfCJOYJnyFan",
        "outputId": "a1b9a4f4-d467-4042-cdd6-b68176f43e55"
      },
      "execution_count": 4,
      "outputs": [
        {
          "output_type": "stream",
          "name": "stdout",
          "text": [
            "[[1, 2, 3], [4, 5, 6], [7, 8, 9], [21, 34, 40], [71, 17, 77], [73, 81, 28]]\n"
          ]
        }
      ]
    },
    {
      "cell_type": "code",
      "source": [
        "2*A"
      ],
      "metadata": {
        "colab": {
          "base_uri": "https://localhost:8080/"
        },
        "id": "1w-Ho6JozTAj",
        "outputId": "fc4cb8ab-713e-4db0-f00c-9dd58628e59f"
      },
      "execution_count": 5,
      "outputs": [
        {
          "output_type": "execute_result",
          "data": {
            "text/plain": [
              "[[1, 2, 3], [4, 5, 6], [7, 8, 9], [1, 2, 3], [4, 5, 6], [7, 8, 9]]"
            ]
          },
          "metadata": {},
          "execution_count": 5
        }
      ]
    },
    {
      "cell_type": "code",
      "source": [
        "A[0][0]\n",
        "[1, 2, 3]\n",
        "#A [0,0]"
      ],
      "metadata": {
        "colab": {
          "base_uri": "https://localhost:8080/"
        },
        "id": "50Fjj9f81Abq",
        "outputId": "c8439876-068e-4e85-e758-d4365d764394"
      },
      "execution_count": 6,
      "outputs": [
        {
          "output_type": "execute_result",
          "data": {
            "text/plain": [
              "[1, 2, 3]"
            ]
          },
          "metadata": {},
          "execution_count": 6
        }
      ]
    },
    {
      "cell_type": "markdown",
      "source": [
        "## Vectores y Listas\n"
      ],
      "metadata": {
        "id": "6gb5tgPk1Oai"
      }
    },
    {
      "cell_type": "code",
      "source": [
        "L= A[0]\n",
        "M= B[0]\n",
        "print (L, M)\n"
      ],
      "metadata": {
        "colab": {
          "base_uri": "https://localhost:8080/"
        },
        "id": "dz0CBNao1S00",
        "outputId": "8fac0bed-f862-456d-cda8-0d7c973ae22c"
      },
      "execution_count": 8,
      "outputs": [
        {
          "output_type": "stream",
          "name": "stdout",
          "text": [
            "[1, 2, 3] [21, 34, 40]\n"
          ]
        }
      ]
    },
    {
      "cell_type": "code",
      "source": [
        "a= L[0]\n",
        "b= M[0]\n",
        "a+b"
      ],
      "metadata": {
        "colab": {
          "base_uri": "https://localhost:8080/"
        },
        "id": "LQCcEEoF18m2",
        "outputId": "3d99d751-e08c-4180-b8b8-612276994e98"
      },
      "execution_count": 9,
      "outputs": [
        {
          "output_type": "execute_result",
          "data": {
            "text/plain": [
              "22"
            ]
          },
          "metadata": {},
          "execution_count": 9
        }
      ]
    },
    {
      "cell_type": "code",
      "source": [],
      "metadata": {
        "id": "fzjhb9Iy5znx"
      },
      "execution_count": null,
      "outputs": []
    },
    {
      "cell_type": "code",
      "source": [
        "a==1"
      ],
      "metadata": {
        "colab": {
          "base_uri": "https://localhost:8080/"
        },
        "id": "fobdoBMH2q-P",
        "outputId": "afc60f9f-8b58-43ba-9875-c3b27b6be056"
      },
      "execution_count": 10,
      "outputs": [
        {
          "output_type": "execute_result",
          "data": {
            "text/plain": [
              "True"
            ]
          },
          "metadata": {},
          "execution_count": 10
        }
      ]
    },
    {
      "cell_type": "markdown",
      "source": [
        "### Suma de Vectores\n"
      ],
      "metadata": {
        "id": "8RtJfP-Q54mv"
      }
    },
    {
      "cell_type": "code",
      "source": [
        "len (L)==len (M)"
      ],
      "metadata": {
        "colab": {
          "base_uri": "https://localhost:8080/"
        },
        "id": "RxnAh6bR5_70",
        "outputId": "54acfcad-4ede-4f5f-eac9-c0d39bb33285"
      },
      "execution_count": 11,
      "outputs": [
        {
          "output_type": "execute_result",
          "data": {
            "text/plain": [
              "True"
            ]
          },
          "metadata": {},
          "execution_count": 11
        }
      ]
    },
    {
      "cell_type": "code",
      "source": [
        "suma=[L[0]+ M[0], L[1]+ M[1], L[2]+ M[2]]"
      ],
      "metadata": {
        "id": "ywghzveM6Gqv"
      },
      "execution_count": 12,
      "outputs": []
    },
    {
      "cell_type": "code",
      "source": [
        "suma=[L[i]+M[i] for i in range(3)]"
      ],
      "metadata": {
        "id": "Q0FuwBwD6Y1T"
      },
      "execution_count": 14,
      "outputs": []
    },
    {
      "cell_type": "markdown",
      "source": [
        "### Creación de Funciones Globales\n",
        "La función para crear funciones se llama `def` que se cierra con un debug (print) ó (return)"
      ],
      "metadata": {
        "id": "q7A87jHJEHUe"
      }
    },
    {
      "cell_type": "code",
      "source": [
        " def Hola():\n",
        "  print(\"Hola, me llamo Cesar\")"
      ],
      "metadata": {
        "id": "qOg6UhdqEMBP"
      },
      "execution_count": 15,
      "outputs": []
    },
    {
      "cell_type": "code",
      "source": [
        "Hola()"
      ],
      "metadata": {
        "colab": {
          "base_uri": "https://localhost:8080/"
        },
        "id": "c6kdOQM4FG6x",
        "outputId": "c0fb0af8-5450-40be-9abc-3a5b3d66932e"
      },
      "execution_count": 16,
      "outputs": [
        {
          "output_type": "stream",
          "name": "stdout",
          "text": [
            "Hola, me llamo Cesar\n"
          ]
        }
      ]
    },
    {
      "cell_type": "code",
      "source": [
        "def Saludar(s, n):\n",
        "  print (f\"Hola, me llamo {s} y tengo {n} años\")"
      ],
      "metadata": {
        "id": "BSbo3Q3WGNDU"
      },
      "execution_count": 24,
      "outputs": []
    },
    {
      "cell_type": "code",
      "source": [
        "Saludar(\"Cesar\", 18)"
      ],
      "metadata": {
        "colab": {
          "base_uri": "https://localhost:8080/"
        },
        "id": "ZjZtRhU-HYIx",
        "outputId": "1f821ecb-9ae1-42b6-b382-89cf508e83b3"
      },
      "execution_count": 25,
      "outputs": [
        {
          "output_type": "stream",
          "name": "stdout",
          "text": [
            "Hola, me llamo Cesar y tengo 18 años\n"
          ]
        }
      ]
    },
    {
      "cell_type": "code",
      "source": [
        "def par():\n",
        "  for x in range (10):\n",
        "    if x%2==0:\n",
        "      print(f\"{x} es par\")\n",
        "    else:\n",
        "        print(f\"{x} es impar\")"
      ],
      "metadata": {
        "id": "cQvhiyFOJeG5"
      },
      "execution_count": 27,
      "outputs": []
    },
    {
      "cell_type": "code",
      "source": [
        "par()\n"
      ],
      "metadata": {
        "colab": {
          "base_uri": "https://localhost:8080/"
        },
        "id": "6vFylR8pMTFd",
        "outputId": "4ecd6ef7-cd78-4940-e72b-8bc47930ff31"
      },
      "execution_count": 28,
      "outputs": [
        {
          "output_type": "stream",
          "name": "stdout",
          "text": [
            "0 es par\n",
            "1 es impar\n",
            "2 es par\n",
            "3 es impar\n",
            "4 es par\n",
            "5 es impar\n",
            "6 es par\n",
            "7 es impar\n",
            "8 es par\n",
            "9 es impar\n"
          ]
        }
      ]
    },
    {
      "cell_type": "code",
      "source": [
        "def suma_vectorial(L,M):\n",
        "  x=[L[i]+M[i] for i in range(len(L))]\n",
        "  print (M,L)"
      ],
      "metadata": {
        "id": "YYo3U06IMVSI"
      },
      "execution_count": 31,
      "outputs": []
    },
    {
      "cell_type": "markdown",
      "source": [
        "### Modulos y Librerias"
      ],
      "metadata": {
        "id": "IRUYxQWeNDqD"
      }
    },
    {
      "cell_type": "code",
      "source": [
        "import math\n",
        "from math import sqrt, pi"
      ],
      "metadata": {
        "id": "ggU3QLN2N7Vp"
      },
      "execution_count": 32,
      "outputs": []
    },
    {
      "cell_type": "code",
      "source": [
        "sqrt(25)"
      ],
      "metadata": {
        "colab": {
          "base_uri": "https://localhost:8080/"
        },
        "id": "PqFvqcv5OGKx",
        "outputId": "a3a40bd2-04aa-4ac5-d3aa-5fb2a28c606c"
      },
      "execution_count": 33,
      "outputs": [
        {
          "output_type": "execute_result",
          "data": {
            "text/plain": [
              "5.0"
            ]
          },
          "metadata": {},
          "execution_count": 33
        }
      ]
    },
    {
      "cell_type": "code",
      "source": [
        "pi"
      ],
      "metadata": {
        "colab": {
          "base_uri": "https://localhost:8080/"
        },
        "id": "yaJvb192Ojwz",
        "outputId": "00296f45-b313-444a-ee5e-3b0ee1325cf8"
      },
      "execution_count": 35,
      "outputs": [
        {
          "output_type": "execute_result",
          "data": {
            "text/plain": [
              "3.141592653589793"
            ]
          },
          "metadata": {},
          "execution_count": 35
        }
      ]
    },
    {
      "cell_type": "markdown",
      "source": [
        "## El módulo NumPy\n",
        "La función `array`"
      ],
      "metadata": {
        "id": "A93Lrz4lOohh"
      }
    },
    {
      "cell_type": "code",
      "source": [
        "import numpy as np\n",
        "L_vector = np.array(L)\n",
        "M_vector = np.array(M)\n",
        "L_vector + M_vector"
      ],
      "metadata": {
        "colab": {
          "base_uri": "https://localhost:8080/"
        },
        "id": "Fn2qvCQoOuQ-",
        "outputId": "e429e865-ea62-425a-d351-e72aa10eeaf9"
      },
      "execution_count": 36,
      "outputs": [
        {
          "output_type": "execute_result",
          "data": {
            "text/plain": [
              "array([22, 36, 43])"
            ]
          },
          "metadata": {},
          "execution_count": 36
        }
      ]
    },
    {
      "cell_type": "code",
      "source": [
        "C=[9,2,2,2,3,4,6,5,23]\n",
        "A=[0,1,1,1,2,1,16,1,6]\n",
        "C_matriz = np.array (C). reshape (3,3)\n",
        "A_matriz= np.array (A). reshape (3,3)\n",
        "print (C_matriz)\n",
        "print (A_matriz)"
      ],
      "metadata": {
        "colab": {
          "base_uri": "https://localhost:8080/"
        },
        "id": "8fmaQ2FEQ01B",
        "outputId": "24f475fe-4baa-462e-fbaf-be2fd848b809"
      },
      "execution_count": 45,
      "outputs": [
        {
          "output_type": "stream",
          "name": "stdout",
          "text": [
            "[[ 9  2  2]\n",
            " [ 2  3  4]\n",
            " [ 6  5 23]]\n",
            "[[ 0  1  1]\n",
            " [ 1  2  1]\n",
            " [16  1  6]]\n"
          ]
        }
      ]
    },
    {
      "cell_type": "code",
      "source": [
        "C_matriz @ A_matriz"
      ],
      "metadata": {
        "colab": {
          "base_uri": "https://localhost:8080/"
        },
        "id": "vkFPNypjRmC1",
        "outputId": "72062ff4-43a8-4656-badb-37930569e5a3"
      },
      "execution_count": 46,
      "outputs": [
        {
          "output_type": "execute_result",
          "data": {
            "text/plain": [
              "array([[ 34,  15,  23],\n",
              "       [ 67,  12,  29],\n",
              "       [373,  39, 149]])"
            ]
          },
          "metadata": {},
          "execution_count": 46
        }
      ]
    },
    {
      "cell_type": "code",
      "source": [
        "A_matriz @ C_matriz"
      ],
      "metadata": {
        "colab": {
          "base_uri": "https://localhost:8080/"
        },
        "id": "FqswLNKPRr0I",
        "outputId": "2dd051ec-52c0-4e93-a958-cccc69198f43"
      },
      "execution_count": 47,
      "outputs": [
        {
          "output_type": "execute_result",
          "data": {
            "text/plain": [
              "array([[  8,   8,  27],\n",
              "       [ 19,  13,  33],\n",
              "       [182,  65, 174]])"
            ]
          },
          "metadata": {},
          "execution_count": 47
        }
      ]
    }
  ]
}
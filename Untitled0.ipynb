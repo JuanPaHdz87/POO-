{
  "nbformat": 4,
  "nbformat_minor": 0,
  "metadata": {
    "colab": {
      "provenance": []
    },
    "kernelspec": {
      "name": "python3",
      "display_name": "Python 3"
    },
    "language_info": {
      "name": "python"
    }
  },
  "cells": [
    {
      "cell_type": "code",
      "execution_count": null,
      "metadata": {
        "id": "aawYB27LblFq"
      },
      "outputs": [],
      "source": []
    },
    {
      "cell_type": "markdown",
      "source": [
        "##Conjuntos y listas\n",
        "-Conjuntos Finitos\n",
        "$$\\{o_1,o_2,\\dots,o_n\\}$$\n",
        "-Listas Finitas\n",
        "$$[l_1.l_2,\\dots,l_n]$$"
      ],
      "metadata": {
        "id": "HdZ4NrDJchS0"
      }
    },
    {
      "cell_type": "markdown",
      "source": [
        "En Python, existe la función `range(a,b)` donde $a,b\\geq 0$"
      ],
      "metadata": {
        "id": "-zGtXzjfetef"
      }
    },
    {
      "cell_type": "code",
      "source": [
        "range (10)\n"
      ],
      "metadata": {
        "colab": {
          "base_uri": "https://localhost:8080/"
        },
        "id": "9jcE16lDfmwc",
        "outputId": "2480da97-1f24-4cbd-8c04-1c190ec2d6be"
      },
      "execution_count": 1,
      "outputs": [
        {
          "output_type": "execute_result",
          "data": {
            "text/plain": [
              "range(0, 10)"
            ]
          },
          "metadata": {},
          "execution_count": 1
        }
      ]
    },
    {
      "cell_type": "markdown",
      "source": [
        "Cómo puedo ver a los elementos de este generador de elementos?"
      ],
      "metadata": {
        "id": "nkPgYCzGgEGD"
      }
    },
    {
      "cell_type": "code",
      "source": [
        "for i in range(10) : print(i)"
      ],
      "metadata": {
        "colab": {
          "base_uri": "https://localhost:8080/"
        },
        "id": "_iN539wOgORE",
        "outputId": "76e1a446-44b0-409c-fb79-f0c82555ac56"
      },
      "execution_count": 2,
      "outputs": [
        {
          "output_type": "stream",
          "name": "stdout",
          "text": [
            "0\n",
            "1\n",
            "2\n",
            "3\n",
            "4\n",
            "5\n",
            "6\n",
            "7\n",
            "8\n",
            "9\n"
          ]
        }
      ]
    },
    {
      "cell_type": "code",
      "source": [
        "#Vamos a costruir dos conjuntos\n",
        "Pares ={i for i in range(11) if i%2==0}\n",
        "print (f\"Pares: {Pares}\")\n",
        "\n",
        "Impares ={i for i in range (11) if i%2==1}\n",
        "print (f\"Impares: {Impares}\")"
      ],
      "metadata": {
        "colab": {
          "base_uri": "https://localhost:8080/"
        },
        "id": "LEfz0E7ohS6X",
        "outputId": "ef39a8b5-730e-45ea-92a1-e9735843114b"
      },
      "execution_count": 11,
      "outputs": [
        {
          "output_type": "stream",
          "name": "stdout",
          "text": [
            "Pares: {0, 2, 4, 6, 8, 10}\n",
            "Impares: {1, 3, 5, 7, 9}\n"
          ]
        }
      ]
    },
    {
      "cell_type": "code",
      "source": [
        "C= {12,22,45,32,21,65}\n",
        "C, type(C)"
      ],
      "metadata": {
        "colab": {
          "base_uri": "https://localhost:8080/"
        },
        "id": "g_VUpOMkjh99",
        "outputId": "afe66e73-dc9b-4c72-918d-2b565c4d1199"
      },
      "execution_count": 12,
      "outputs": [
        {
          "output_type": "execute_result",
          "data": {
            "text/plain": [
              "({12, 21, 22, 32, 45, 65}, set)"
            ]
          },
          "metadata": {},
          "execution_count": 12
        }
      ]
    },
    {
      "cell_type": "code",
      "source": [
        "Pares.intersection(Impares)#Conjunto vacio"
      ],
      "metadata": {
        "colab": {
          "base_uri": "https://localhost:8080/"
        },
        "id": "tD4FXtoZk1An",
        "outputId": "39c08c5e-b8fb-44ba-e428-780f5d2f1cdd"
      },
      "execution_count": 14,
      "outputs": [
        {
          "output_type": "execute_result",
          "data": {
            "text/plain": [
              "set()"
            ]
          },
          "metadata": {},
          "execution_count": 14
        }
      ]
    },
    {
      "cell_type": "code",
      "source": [
        "Pares.union(Impares)"
      ],
      "metadata": {
        "colab": {
          "base_uri": "https://localhost:8080/"
        },
        "id": "MBhBmNw9lKQv",
        "outputId": "d2e412f3-378e-4f92-ff09-b05be26e4b1e"
      },
      "execution_count": 15,
      "outputs": [
        {
          "output_type": "execute_result",
          "data": {
            "text/plain": [
              "{0, 1, 2, 3, 4, 5, 6, 7, 8, 9, 10}"
            ]
          },
          "metadata": {},
          "execution_count": 15
        }
      ]
    },
    {
      "cell_type": "code",
      "source": [
        "Impares.difference(C)#Quitando los elementos de C a los impares"
      ],
      "metadata": {
        "colab": {
          "base_uri": "https://localhost:8080/"
        },
        "id": "R9JJ2GcPlNXL",
        "outputId": "a43849ce-0da7-4713-d005-6585c25b7e53"
      },
      "execution_count": 16,
      "outputs": [
        {
          "output_type": "execute_result",
          "data": {
            "text/plain": [
              "{1, 3, 5, 7, 9}"
            ]
          },
          "metadata": {},
          "execution_count": 16
        }
      ]
    },
    {
      "cell_type": "markdown",
      "source": [
        "##Listas"
      ],
      "metadata": {
        "id": "-V0EYUVilzkw"
      }
    },
    {
      "cell_type": "code",
      "source": [
        "Lista_pares = list(Pares)\n",
        "Lista_pares"
      ],
      "metadata": {
        "colab": {
          "base_uri": "https://localhost:8080/"
        },
        "id": "XTcFzslBl3TS",
        "outputId": "6ad645ba-b22e-47d4-b612-34ac0118ef7d"
      },
      "execution_count": 19,
      "outputs": [
        {
          "output_type": "execute_result",
          "data": {
            "text/plain": [
              "[0, 2, 4, 6, 8, 10]"
            ]
          },
          "metadata": {},
          "execution_count": 19
        }
      ]
    }
  ]
}
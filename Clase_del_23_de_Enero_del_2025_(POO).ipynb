{
  "nbformat": 4,
  "nbformat_minor": 0,
  "metadata": {
    "colab": {
      "provenance": []
    },
    "kernelspec": {
      "name": "python3",
      "display_name": "Python 3"
    },
    "language_info": {
      "name": "python"
    }
  },
  "cells": [
    {
      "cell_type": "code",
      "execution_count": null,
      "metadata": {
        "id": "qC46RZ7spPcR"
      },
      "outputs": [],
      "source": []
    },
    {
      "cell_type": "markdown",
      "source": [],
      "metadata": {
        "id": "3EmuWnFyqP_j"
      }
    },
    {
      "cell_type": "code",
      "source": [
        "# Vamos a imprimir Hola Mundo!\n",
        "\"Hola Mundo!\""
      ],
      "metadata": {
        "colab": {
          "base_uri": "https://localhost:8080/",
          "height": 35
        },
        "id": "fNS9tA3ctKc4",
        "outputId": "cbd7c12e-a68b-425d-ef75-5094f90662d3"
      },
      "execution_count": 2,
      "outputs": [
        {
          "output_type": "execute_result",
          "data": {
            "text/plain": [
              "'Hola Mundo!'"
            ],
            "application/vnd.google.colaboratory.intrinsic+json": {
              "type": "string"
            }
          },
          "metadata": {},
          "execution_count": 2
        }
      ]
    },
    {
      "cell_type": "code",
      "source": [
        "print (\"César\")\n",
        "print (\"Hola a todos!\")"
      ],
      "metadata": {
        "colab": {
          "base_uri": "https://localhost:8080/"
        },
        "id": "-p88DgbxABW5",
        "outputId": "99b732fd-e739-4574-e987-6fbaae072d0e"
      },
      "execution_count": 3,
      "outputs": [
        {
          "output_type": "stream",
          "name": "stdout",
          "text": [
            "César\n",
            "Hola a todos!\n"
          ]
        }
      ]
    },
    {
      "cell_type": "markdown",
      "source": [
        "**Nota:** En este procesador de trexto se puede escribir en html y en latex. Por ejemplo vamos a escribir la ecuación más útil de todas (Identidad de Euler)... $$ e^{i\\pi}+1=0 $$\n",
        "\n",
        "Otro ejemplo...\n",
        "\n",
        "\\begin{bmatrix}\n",
        "a_{1,1} & a_{1,2} & \\cdots & a_{1,m} \\\\\n",
        "a_{2,1} & a_{2,2} & \\cdots & a_{2,m} \\\\\n",
        "\\vdots & \\vdots & \\ddots & \\vdots \\\\\n",
        "a_{n,1} & a_{n,2} & \\cdots & a_{n,m}\n",
        "\\end{bmatrix}"
      ],
      "metadata": {
        "id": "BV1d_lZQt8zz"
      }
    },
    {
      "cell_type": "markdown",
      "source": [
        "# Introducción a Python\n",
        "{Ecuaciones para Python y una breve introducción}\n",
        "-----\n",
        "## Qué veremos hoy?\n",
        "1. Objetos\n",
        "2. Variables\n",
        "3. Ejemplo\n",
        "-----\n",
        "### Algunos Objetos en Python\n",
        "1. int y float (expanción de decimales)\n",
        "2. str (\"strings\")\n",
        "3. Conjuntos y listas\n",
        "-----\n",
        "**La función `print`**\n",
        "\n",
        "-----\n",
        "####Operaciones Básicas en int o flat\n",
        "* $+, \\ -$ Suma y Resta\n",
        "* $*,/, **$ Multiplicación, División y Potencia\n",
        "* $\\%$ Operación Modular\n",
        "* $//$ División al Piso\n",
        "-----\n",
        "Creación de Variables\n",
        "\n",
        "nombre = objeto\n"
      ],
      "metadata": {
        "id": "KVqxENWtqiNq"
      }
    },
    {
      "cell_type": "code",
      "source": [
        "5+2"
      ],
      "metadata": {
        "colab": {
          "base_uri": "https://localhost:8080/"
        },
        "id": "mukUqZAOEyR8",
        "outputId": "5c154985-d087-4567-91a5-f909ddac0a28"
      },
      "execution_count": 4,
      "outputs": [
        {
          "output_type": "execute_result",
          "data": {
            "text/plain": [
              "7"
            ]
          },
          "metadata": {},
          "execution_count": 4
        }
      ]
    },
    {
      "cell_type": "code",
      "source": [
        "# Vamos a crear dos variables\n",
        "x = 7\n",
        "y = 3"
      ],
      "metadata": {
        "id": "wIx_swz-GKyR"
      },
      "execution_count": 9,
      "outputs": []
    },
    {
      "cell_type": "code",
      "source": [
        "# Operaciones\n",
        "print (f\"La suma entre {x} y {y} es {x+y}\")\n",
        "print (f\"La potenciación entre {x} y {y} es {x**y}\")\n",
        "print (f\"La resuiduo entre {x} y {y} es {x%y}\")\n",
        "print (f\"La división al piso entre {x} y {y} es {x//y}\")"
      ],
      "metadata": {
        "colab": {
          "base_uri": "https://localhost:8080/"
        },
        "id": "Ivn-2dyjHOSk",
        "outputId": "fa11c3b3-cda4-45a3-b864-05f262a1b694"
      },
      "execution_count": 10,
      "outputs": [
        {
          "output_type": "stream",
          "name": "stdout",
          "text": [
            "La suma entre 7 y 3 es 10\n",
            "La potenciación entre 7 y 3 es 343\n",
            "La resuiduo entre 7 y 3 es 1\n",
            "La división al piso entre 7 y 3 es 2\n"
          ]
        }
      ]
    },
    {
      "cell_type": "code",
      "source": [
        "# la función type nos dice el tipo de objeto que estamos usando\n",
        "type(x/y), type(\"Cesar\")"
      ],
      "metadata": {
        "colab": {
          "base_uri": "https://localhost:8080/"
        },
        "id": "NoxTS9VaI5Bg",
        "outputId": "d8dd8b75-a11b-4094-9559-8c31d95dcff2"
      },
      "execution_count": 11,
      "outputs": [
        {
          "output_type": "execute_result",
          "data": {
            "text/plain": [
              "(float, str)"
            ]
          },
          "metadata": {},
          "execution_count": 11
        }
      ]
    }
  ]
}